{
 "cells": [
  {
   "cell_type": "markdown",
   "id": "658a56e1-32c2-4aa1-9858-592720a8df64",
   "metadata": {
    "vscode": {
     "languageId": "plaintext"
    }
   },
   "source": [
    "### 區塊 1: 環境設定與函式庫導入\n",
    "說明: 建立一個乾淨的 Python 虛擬環境並安裝所需套件。\n",
    "\n",
    "1. 建立資料夾並進入 (如果尚未建立):\n",
    "mkdir aicup-final-project\n",
    "cd aicup-final-project\n",
    "\n",
    "2. 建立虛擬環境 (venv):\n",
    "python -m venv venv\n",
    "\n",
    "3. 啟用虛擬環境:\n",
    "(Windows): .\\\\venv\\\\Scripts\\\\activate\n",
    "(macOS/Linux): source venv/bin/activate\n",
    "\n",
    "4. 安裝必要套件:\n",
    "pip install pandas numpy scikit-learn lightgbm tqdm\n",
    "\n",
    "5. 將您的資料檔案放入名為 'data' 的資料夾，然後啟動 Jupyter:\n",
    "jupyter notebook"
   ]
  },
  {
   "cell_type": "code",
   "execution_count": 1,
   "id": "aaff0e0e-f293-4ac0-b52f-0d9bce909e52",
   "metadata": {
    "vscode": {
     "languageId": "plaintext"
    }
   },
   "outputs": [
    {
     "name": "stdout",
     "output_type": "stream",
     "text": [
      "函式庫導入完成。\n"
     ]
    }
   ],
   "source": [
    "import os\n",
    "import pandas as pd\n",
    "import numpy as np\n",
    "import lightgbm as lgb\n",
    "from sklearn.model_selection import StratifiedKFold\n",
    "from sklearn.metrics import f1_score, roc_auc_score\n",
    "from tqdm.notebook import tqdm\n",
    "import warnings\n",
    "\n",
    "warnings.filterwarnings('ignore')\n",
    "\n",
    "print(\"函式庫導入完成。\")"
   ]
  },
  {
   "cell_type": "markdown",
   "id": "5db42694-7bac-49ef-a621-b8a8d4f1ad8e",
   "metadata": {},
   "source": [
    "### 區塊 2: 資料讀取函式"
   ]
  },
  {
   "cell_type": "code",
   "execution_count": 36,
   "id": "46d13edf-83f2-4266-98fa-d922a180d5b2",
   "metadata": {},
   "outputs": [],
   "source": [
    "def load_data(dir_path):\n",
    "    \"\"\"\n",
    "    讀取競賽所需的三個核心資料集。\n",
    "    \"\"\"\n",
    "    print(\"開始讀取資料...\")\n",
    "    paths = {\n",
    "        \"txn\": os.path.join(dir_path, 'acct_transaction.csv'),\n",
    "        \"alert\": os.path.join(dir_path, 'acct_alert.csv'),\n",
    "        \"predict_list\": os.path.join(dir_path, 'acct_predict.csv'),\n",
    "    }\n",
    "    df_txn = pd.read_csv(paths['txn'])\n",
    "    df_alert = pd.read_csv(paths['alert'])\n",
    "    df_predict_list = pd.read_csv(paths['predict_list'])\n",
    "    \n",
    "    print(f\"交易紀錄筆數: {len(df_txn)}\")\n",
    "    print(f\"警示帳戶名單數: {len(df_alert)}\")\n",
    "    print(f\"待預測帳戶數: {len(df_predict_list)}\")\n",
    "    print(\"資料讀取完成。\")\n",
    "    \n",
    "    return df_txn, df_alert, df_predict_list"
   ]
  },
  {
   "cell_type": "markdown",
   "id": "20df162f-b6e3-4f3f-8c9d-6600c5e8efda",
   "metadata": {},
   "source": [
    "### 區塊 3: 時間窗特徵工程函式"
   ]
  },
  {
   "cell_type": "code",
   "execution_count": 37,
   "id": "3800d0d3-45f0-4e80-81f3-1cb3f77cb049",
   "metadata": {},
   "outputs": [],
   "source": [
    "def feature_engineering_by_account(df_txn, df_acct_dates):\n",
    "    \"\"\"\n",
    "    以帳戶為中心，計算時間窗特徵。\n",
    "    Args:\n",
    "        df_txn (DataFrame): 原始交易資料表。\n",
    "        df_acct_dates (DataFrame): 包含 'acct' 和 'date' 欄位的帳戶列表。\n",
    "    \"\"\"\n",
    "    print(f\"開始為 {len(df_acct_dates)} 個帳戶進行特徵工程...\")\n",
    "    \n",
    "    df_txn['txn_amt'] = pd.to_numeric(df_txn['txn_amt'], errors='coerce').fillna(0)\n",
    "    \n",
    "    print(\"  - 正在合併交易資料 (此步驟可能需要數分鐘)...\")\n",
    "    df_merged = df_acct_dates.merge(df_txn, left_on='acct', right_on='from_acct', how='left')\n",
    "    df_merged = df_merged[df_merged['txn_date'] <= df_merged['date']]\n",
    "    print(\"  - 資料合併完成。\")\n",
    "    \n",
    "    all_features = df_acct_dates[['acct']].copy()\n",
    "    time_windows = [1, 3, 7, 14, 30]\n",
    "    \n",
    "    print(\"  - 開始計算時間窗特徵...\")\n",
    "    for days in tqdm(time_windows, desc=\"計算特徵窗口\"):\n",
    "        df_window = df_merged[df_merged['txn_date'] > df_merged['date'] - days]\n",
    "        \n",
    "        amt_stats = df_window.groupby('acct')['txn_amt'].agg(['sum', 'count', 'mean', 'std']).add_prefix(f'send_amt_{days}d_')\n",
    "        all_features = all_features.merge(amt_stats, on='acct', how='left')\n",
    "        \n",
    "        unique_to_accts = df_window.groupby('acct')['to_acct'].nunique().rename(f'send_to_unique_accts_{days}d')\n",
    "        all_features = all_features.merge(unique_to_accts, on='acct', how='left')\n",
    "\n",
    "    all_features.fillna(0, inplace=True)\n",
    "    print(\"特徵工程完成。\")\n",
    "    return all_features"
   ]
  },
  {
   "cell_type": "markdown",
   "id": "27effcdc-9401-406a-a068-78da0ba4e4d4",
   "metadata": {},
   "source": [
    "### 區塊 4: 主流程執行"
   ]
  },
  {
   "cell_type": "code",
   "execution_count": null,
   "id": "66c7a7c1-56ef-4f0f-a486-9d554f7998b3",
   "metadata": {},
   "outputs": [
    {
     "name": "stdout",
     "output_type": "stream",
     "text": [
      "開始讀取資料...\n",
      "交易紀錄筆數: 4435890\n",
      "警示帳戶名單數: 1004\n",
      "待預測帳戶數: 4780\n",
      "資料讀取完成。\n",
      "準備特徵工程的輸入資料...\n",
      "開始為 1004 個帳戶進行特徵工程...\n",
      "  - 正在合併交易資料 (此步驟可能需要數分鐘)...\n",
      "  - 資料合併完成。\n",
      "  - 開始計算時間窗特徵...\n"
     ]
    },
    {
     "name": "stderr",
     "output_type": "stream",
     "text": [
      "計算特徵窗口: 100%|██████████████████████████████████████████████████████████████████████████████████████████████████████████| 5/5 [00:00<00:00, 108.69it/s]"
     ]
    },
    {
     "name": "stdout",
     "output_type": "stream",
     "text": [
      "特徵工程完成。\n",
      "開始為 1794322 個帳戶進行特徵工程...\n",
      "  - 正在合併交易資料 (此步驟可能需要數分鐘)...\n"
     ]
    },
    {
     "name": "stderr",
     "output_type": "stream",
     "text": [
      "\n"
     ]
    },
    {
     "name": "stdout",
     "output_type": "stream",
     "text": [
      "  - 資料合併完成。\n",
      "  - 開始計算時間窗特徵...\n"
     ]
    },
    {
     "name": "stderr",
     "output_type": "stream",
     "text": [
      "計算特徵窗口: 100%|███████████████████████████████████████████████████████████████████████████████████████████████████████████| 5/5 [00:16<00:00,  3.28s/it]\n"
     ]
    },
    {
     "name": "stdout",
     "output_type": "stream",
     "text": [
      "特徵工程完成。\n",
      "開始為 4780 個帳戶進行特徵工程...\n",
      "  - 正在合併交易資料 (此步驟可能需要數分鐘)...\n",
      "  - 資料合併完成。\n",
      "  - 開始計算時間窗特徵...\n"
     ]
    },
    {
     "name": "stderr",
     "output_type": "stream",
     "text": [
      "計算特徵窗口: 100%|███████████████████████████████████████████████████████████████████████████████████████████████████████████| 5/5 [00:00<00:00, 27.32it/s]\n"
     ]
    },
    {
     "name": "stdout",
     "output_type": "stream",
     "text": [
      "特徵工程完成。\n",
      "準備模型訓練資料...\n",
      "\n",
      "開始使用 LightGBM 進行訓練...\n"
     ]
    }
   ],
   "source": [
    "if __name__ == \"__main__\":\n",
    "    \n",
    "    data_dir = 'data'\n",
    "    df_txn, df_alert, df_predict_list = load_data(data_dir)\n",
    "    df_submission_template = pd.read_csv(os.path.join(data_dir, 'submission_template.csv'))\n",
    "    \n",
    "    print(\"準備特徵工程的輸入資料...\")\n",
    "    # 正樣本 (警示帳戶)，並將事件日欄位改名為 'date'\n",
    "    df_pos_dates = df_alert.rename(columns={'event_date': 'date'})\n",
    "    \n",
    "    # 找出所有交易過的帳戶\n",
    "    all_accts_in_txn = pd.concat([df_txn['from_acct'], df_txn['to_acct']]).unique()\n",
    "    \n",
    "    # 找出非警示、也非待預測的帳戶作為負樣本\n",
    "    non_alert_accts = np.setdiff1d(all_accts_in_txn, pd.concat([df_alert['acct'], df_predict_list['acct']]).unique())\n",
    "    df_neg_dates = pd.DataFrame({'acct': non_alert_accts})\n",
    "    last_date = df_txn['txn_date'].max()\n",
    "    df_neg_dates['date'] = last_date\n",
    "\n",
    "    # 待預測帳戶 (測試集)，同樣以最後一天為基準日\n",
    "    df_test_dates = df_predict_list.copy()\n",
    "    df_test_dates['date'] = last_date\n",
    "\n",
    "    # 分別為三個群組執行特徵工程\n",
    "    X_pos_features = feature_engineering_by_account(df_txn, df_pos_dates)\n",
    "    X_neg_features = feature_engineering_by_account(df_txn, df_neg_dates)\n",
    "    X_test_features = feature_engineering_by_account(df_txn, df_test_dates)\n",
    "\n",
    "    print(\"準備模型訓練資料...\")\n",
    "    X_pos_features['label'] = 1\n",
    "    X_neg_features['label'] = 0\n",
    "    \n",
    "    # 合併正負樣本成為完整的訓練集\n",
    "    train_df = pd.concat([X_pos_features, X_neg_features]).reset_index(drop=True)\n",
    "    test_df = X_test_features\n",
    "\n",
    "    features_columns = [col for col in train_df.columns if col not in ['acct', 'date', 'label']]\n",
    "    X_train_full = train_df[features_columns]\n",
    "    y_train_full = train_df['label']\n",
    "    X_test = test_df[features_columns]\n",
    "    \n",
    "    X_train, X_valid, y_train, y_valid = train_test_split(\n",
    "        X_train_full, y_train_full, test_size=0.2, random_state=42, stratify=y_train_full\n",
    "    )\n",
    "    \n",
    "    print(\"\\n開始使用 LightGBM 進行訓練...\")\n",
    "    model = lgb.LGBMClassifier(\n",
    "        objective='binary', metric='f1', n_estimators=1000,\n",
    "        learning_rate=0.05, num_leaves=31, seed=42, n_jobs=-1, verbose=-1\n",
    "    )\n",
    "    model.fit(X_train, y_train)\n",
    "    \n",
    "    print(\"\\n在驗證集上尋找最佳預測門檻值...\")\n",
    "    y_valid_proba = model.predict_proba(X_valid)[:, 1]\n",
    "    \n",
    "    best_f1 = 0\n",
    "    best_threshold = 0.5\n",
    "    for threshold in np.arange(0.01, 0.51, 0.01):\n",
    "        y_valid_pred = (y_valid_proba > threshold).astype(int)\n",
    "        current_f1 = f1_score(y_valid, y_valid_pred)\n",
    "        if current_f1 > best_f1:\n",
    "            best_f1 = current_f1\n",
    "            best_threshold = threshold\n",
    "            \n",
    "    print(f\"找到最佳門檻值: {best_threshold:.2f}, 在驗證集上的 F1-Score 為: {best_f1:.4f}\")\n",
    "\n",
    "    print(\"\\n使用全部訓練資料重新訓練模型...\")\n",
    "    final_model = lgb.LGBMClassifier(\n",
    "        objective='binary', metric='f1', n_estimators=1000,\n",
    "        learning_rate=0.05, num_leaves=31, seed=42, n_jobs=-1, verbose=-1\n",
    "    )\n",
    "    final_model.fit(X_train_full, y_train_full)\n",
    "    \n",
    "    print(\"模型訓練完成。開始使用最佳門檻值進行最終預測...\")\n",
    "    y_pred_proba = final_model.predict_proba(X_test)[:, 1]\n",
    "    y_pred_final = (y_pred_proba > best_threshold).astype(int)\n",
    "    print(\"預測完成。\")\n",
    "    \n",
    "    df_submission_output = pd.DataFrame({'acct': test_df['acct'], 'label': y_pred_final})\n",
    "    df_final_submission = df_submission_template[['acct']].merge(df_submission_output, on='acct', how='left')\n",
    "    df_final_submission['label'] = df_final_submission['label'].fillna(0).astype(int)\n",
    "\n",
    "    output_path = \"submission_final_optimized.csv\"\n",
    "    df_final_submission.to_csv(output_path, index=False)\n",
    "    \n",
    "    print(f\"\\n成功產出提交檔案: {output_path}\")\n",
    "    print(f\"預測為警示帳戶 (1) 的數量: {df_final_submission['label'].sum()}\")\n",
    "    print(\"程式執行完畢。\")"
   ]
  },
  {
   "cell_type": "code",
   "execution_count": null,
   "id": "5a000633-0260-400c-b774-0ba2b2c3ba17",
   "metadata": {},
   "outputs": [],
   "source": []
  }
 ],
 "metadata": {
  "kernelspec": {
   "display_name": "Python 3 (ipykernel)",
   "language": "python",
   "name": "python3"
  },
  "language_info": {
   "codemirror_mode": {
    "name": "ipython",
    "version": 3
   },
   "file_extension": ".py",
   "mimetype": "text/x-python",
   "name": "python",
   "nbconvert_exporter": "python",
   "pygments_lexer": "ipython3",
   "version": "3.11.0"
  }
 },
 "nbformat": 4,
 "nbformat_minor": 5
}
